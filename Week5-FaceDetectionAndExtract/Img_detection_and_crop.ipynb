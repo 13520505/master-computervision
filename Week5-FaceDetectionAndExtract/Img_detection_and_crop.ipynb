{
 "cells": [
  {
   "cell_type": "code",
   "execution_count": 1,
   "metadata": {
    "scrolled": true
   },
   "outputs": [
    {
     "name": "stderr",
     "output_type": "stream",
     "text": [
      "/home/minh/anaconda3/lib/python3.6/site-packages/h5py/__init__.py:36: FutureWarning: Conversion of the second argument of issubdtype from `float` to `np.floating` is deprecated. In future, it will be treated as `np.float64 == np.dtype(float).type`.\n",
      "  from ._conv import register_converters as _register_converters\n"
     ]
    }
   ],
   "source": [
    "import cv2,os\n",
    "from mtcnn.mtcnn import MTCNN"
   ]
  },
  {
   "cell_type": "code",
   "execution_count": 10,
   "metadata": {},
   "outputs": [],
   "source": [
    "detector = MTCNN()\n",
    "\n",
    "image_dir = \"img\"\n",
    "result_dir = \"result\"\n",
    "\n",
    "image_names = os.listdir(image_dir)\n",
    "count = 0\n",
    "for image_name in image_names:\n",
    "    image_path = os.path.join(image_dir, image_name)\n",
    "    image = cv2.imread(image_path)\n",
    "    result = detector.detect_faces(image)\n",
    "    for face in result:\n",
    "        count += 1\n",
    "        box = face['box']\n",
    "        crop_face = image[box[1]:box[1]+box[3],box[0]:box[0]+box[2]]\n",
    "        cv2.imwrite(os.path.join(result_dir, \"face\"+ '_' + str(count))+\".jpg\", crop_face)"
   ]
  },
  {
   "cell_type": "code",
   "execution_count": null,
   "metadata": {},
   "outputs": [],
   "source": []
  }
 ],
 "metadata": {
  "kernelspec": {
   "display_name": "Python 3",
   "language": "python",
   "name": "python3"
  },
  "language_info": {
   "codemirror_mode": {
    "name": "ipython",
    "version": 3
   },
   "file_extension": ".py",
   "mimetype": "text/x-python",
   "name": "python",
   "nbconvert_exporter": "python",
   "pygments_lexer": "ipython3",
   "version": "3.6.7"
  }
 },
 "nbformat": 4,
 "nbformat_minor": 2
}
